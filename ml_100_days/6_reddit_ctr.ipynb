{
 "cells": [
  {
   "cell_type": "code",
   "execution_count": 1,
   "id": "a54471cb-fbbe-4bf4-a16f-33ce714eb80f",
   "metadata": {},
   "outputs": [],
   "source": [
    "# To execute the code inside the cell, select that cell and press Ctrl + Enter (or click on the Run button above).\n",
    "# To add a new cell under the existing cell, select the existing cell and press B (or click on the + button above).\n",
    "# To save the notebook, press Ctrl + S (or click on the Save button above).\n",
    "# You can find more information under Help menu.\n",
    "\n",
    "import json\n",
    "import pandas as pd\n",
    "\n",
    "with open('training_data.json', 'r') as ifile:\n",
    "   data = json.load(ifile)\n"
   ]
  },
  {
   "cell_type": "code",
   "execution_count": 2,
   "id": "78f69431-04c8-4003-85df-2d1b5c0b6d77",
   "metadata": {},
   "outputs": [
    {
     "name": "stdout",
     "output_type": "stream",
     "text": [
      "<class 'pandas.core.frame.DataFrame'>\n",
      "RangeIndex: 5000 entries, 0 to 4999\n",
      "Data columns (total 5 columns):\n",
      " #   Column      Non-Null Count  Dtype  \n",
      "---  ------      --------------  -----  \n",
      " 0   h_cats      5000 non-null   float64\n",
      " 1   h_dogs      5000 non-null   float64\n",
      " 2   h_stocks    5000 non-null   float64\n",
      " 3   sub_reddit  5000 non-null   object \n",
      " 4   click       5000 non-null   int64  \n",
      "dtypes: float64(3), int64(1), object(1)\n",
      "memory usage: 195.4+ KB\n"
     ]
    }
   ],
   "source": [
    "raw_df = pd.DataFrame(data, columns=['h_cats','h_dogs','h_stocks','sub_reddit','click'])\n",
    "raw_df.info()"
   ]
  },
  {
   "cell_type": "code",
   "execution_count": 3,
   "id": "7c8d9cde-38a1-4fe5-9d58-7fc813838268",
   "metadata": {},
   "outputs": [
    {
     "data": {
      "text/html": [
       "<div>\n",
       "<style scoped>\n",
       "    .dataframe tbody tr th:only-of-type {\n",
       "        vertical-align: middle;\n",
       "    }\n",
       "\n",
       "    .dataframe tbody tr th {\n",
       "        vertical-align: top;\n",
       "    }\n",
       "\n",
       "    .dataframe thead th {\n",
       "        text-align: right;\n",
       "    }\n",
       "</style>\n",
       "<table border=\"1\" class=\"dataframe\">\n",
       "  <thead>\n",
       "    <tr style=\"text-align: right;\">\n",
       "      <th></th>\n",
       "      <th>h_cats</th>\n",
       "      <th>h_dogs</th>\n",
       "      <th>h_stocks</th>\n",
       "      <th>click</th>\n",
       "    </tr>\n",
       "  </thead>\n",
       "  <tbody>\n",
       "    <tr>\n",
       "      <th>count</th>\n",
       "      <td>5000.000000</td>\n",
       "      <td>5000.000000</td>\n",
       "      <td>5000.000000</td>\n",
       "      <td>5000.000000</td>\n",
       "    </tr>\n",
       "    <tr>\n",
       "      <th>mean</th>\n",
       "      <td>1.852538</td>\n",
       "      <td>1.857214</td>\n",
       "      <td>3.693698</td>\n",
       "      <td>0.405600</td>\n",
       "    </tr>\n",
       "    <tr>\n",
       "      <th>std</th>\n",
       "      <td>1.168584</td>\n",
       "      <td>1.146824</td>\n",
       "      <td>2.291457</td>\n",
       "      <td>0.491057</td>\n",
       "    </tr>\n",
       "    <tr>\n",
       "      <th>min</th>\n",
       "      <td>0.000000</td>\n",
       "      <td>0.001000</td>\n",
       "      <td>0.000000</td>\n",
       "      <td>0.000000</td>\n",
       "    </tr>\n",
       "    <tr>\n",
       "      <th>25%</th>\n",
       "      <td>0.881000</td>\n",
       "      <td>0.888000</td>\n",
       "      <td>1.780750</td>\n",
       "      <td>0.000000</td>\n",
       "    </tr>\n",
       "    <tr>\n",
       "      <th>50%</th>\n",
       "      <td>1.766000</td>\n",
       "      <td>1.779500</td>\n",
       "      <td>3.555000</td>\n",
       "      <td>0.000000</td>\n",
       "    </tr>\n",
       "    <tr>\n",
       "      <th>75%</th>\n",
       "      <td>2.728250</td>\n",
       "      <td>2.684250</td>\n",
       "      <td>5.345000</td>\n",
       "      <td>1.000000</td>\n",
       "    </tr>\n",
       "    <tr>\n",
       "      <th>max</th>\n",
       "      <td>4.913000</td>\n",
       "      <td>4.967000</td>\n",
       "      <td>9.761000</td>\n",
       "      <td>1.000000</td>\n",
       "    </tr>\n",
       "  </tbody>\n",
       "</table>\n",
       "</div>"
      ],
      "text/plain": [
       "            h_cats       h_dogs     h_stocks        click\n",
       "count  5000.000000  5000.000000  5000.000000  5000.000000\n",
       "mean      1.852538     1.857214     3.693698     0.405600\n",
       "std       1.168584     1.146824     2.291457     0.491057\n",
       "min       0.000000     0.001000     0.000000     0.000000\n",
       "25%       0.881000     0.888000     1.780750     0.000000\n",
       "50%       1.766000     1.779500     3.555000     0.000000\n",
       "75%       2.728250     2.684250     5.345000     1.000000\n",
       "max       4.913000     4.967000     9.761000     1.000000"
      ]
     },
     "execution_count": 3,
     "metadata": {},
     "output_type": "execute_result"
    }
   ],
   "source": [
    "raw_df.describe()"
   ]
  },
  {
   "cell_type": "code",
   "execution_count": 4,
   "id": "dfe66a45-ecee-4afd-a377-bec8f064bce3",
   "metadata": {},
   "outputs": [
    {
     "data": {
      "text/plain": [
       "count     5000\n",
       "unique       3\n",
       "top       dogs\n",
       "freq      1686\n",
       "Name: sub_reddit, dtype: object"
      ]
     },
     "execution_count": 4,
     "metadata": {},
     "output_type": "execute_result"
    }
   ],
   "source": [
    "raw_df['sub_reddit'].describe()"
   ]
  },
  {
   "cell_type": "code",
   "execution_count": 5,
   "id": "c0efd30e-6796-43c4-9b19-7d05fc608f62",
   "metadata": {},
   "outputs": [
    {
     "data": {
      "text/plain": [
       "click\n",
       "0    2972\n",
       "1    2028\n",
       "Name: count, dtype: int64"
      ]
     },
     "execution_count": 5,
     "metadata": {},
     "output_type": "execute_result"
    }
   ],
   "source": [
    "raw_df['click'].value_counts()"
   ]
  },
  {
   "cell_type": "code",
   "execution_count": 6,
   "id": "91c08240-57bf-4bcf-9ad4-d3d2a3904315",
   "metadata": {},
   "outputs": [
    {
     "data": {
      "text/html": [
       "<div>\n",
       "<style scoped>\n",
       "    .dataframe tbody tr th:only-of-type {\n",
       "        vertical-align: middle;\n",
       "    }\n",
       "\n",
       "    .dataframe tbody tr th {\n",
       "        vertical-align: top;\n",
       "    }\n",
       "\n",
       "    .dataframe thead th {\n",
       "        text-align: right;\n",
       "    }\n",
       "</style>\n",
       "<table border=\"1\" class=\"dataframe\">\n",
       "  <thead>\n",
       "    <tr style=\"text-align: right;\">\n",
       "      <th></th>\n",
       "      <th>h_cats</th>\n",
       "      <th>h_dogs</th>\n",
       "      <th>h_stocks</th>\n",
       "      <th>click</th>\n",
       "      <th>sub_reddit_cats</th>\n",
       "      <th>sub_reddit_dogs</th>\n",
       "      <th>sub_reddit_stocks</th>\n",
       "    </tr>\n",
       "  </thead>\n",
       "  <tbody>\n",
       "    <tr>\n",
       "      <th>count</th>\n",
       "      <td>5000.000000</td>\n",
       "      <td>5000.000000</td>\n",
       "      <td>5000.000000</td>\n",
       "      <td>5000.000000</td>\n",
       "      <td>5000.000000</td>\n",
       "      <td>5000.000000</td>\n",
       "      <td>5000.000000</td>\n",
       "    </tr>\n",
       "    <tr>\n",
       "      <th>mean</th>\n",
       "      <td>1.852538</td>\n",
       "      <td>1.857214</td>\n",
       "      <td>3.693698</td>\n",
       "      <td>0.405600</td>\n",
       "      <td>0.333200</td>\n",
       "      <td>0.337200</td>\n",
       "      <td>0.329600</td>\n",
       "    </tr>\n",
       "    <tr>\n",
       "      <th>std</th>\n",
       "      <td>1.168584</td>\n",
       "      <td>1.146824</td>\n",
       "      <td>2.291457</td>\n",
       "      <td>0.491057</td>\n",
       "      <td>0.471405</td>\n",
       "      <td>0.472801</td>\n",
       "      <td>0.470115</td>\n",
       "    </tr>\n",
       "    <tr>\n",
       "      <th>min</th>\n",
       "      <td>0.000000</td>\n",
       "      <td>0.001000</td>\n",
       "      <td>0.000000</td>\n",
       "      <td>0.000000</td>\n",
       "      <td>0.000000</td>\n",
       "      <td>0.000000</td>\n",
       "      <td>0.000000</td>\n",
       "    </tr>\n",
       "    <tr>\n",
       "      <th>25%</th>\n",
       "      <td>0.881000</td>\n",
       "      <td>0.888000</td>\n",
       "      <td>1.780750</td>\n",
       "      <td>0.000000</td>\n",
       "      <td>0.000000</td>\n",
       "      <td>0.000000</td>\n",
       "      <td>0.000000</td>\n",
       "    </tr>\n",
       "    <tr>\n",
       "      <th>50%</th>\n",
       "      <td>1.766000</td>\n",
       "      <td>1.779500</td>\n",
       "      <td>3.555000</td>\n",
       "      <td>0.000000</td>\n",
       "      <td>0.000000</td>\n",
       "      <td>0.000000</td>\n",
       "      <td>0.000000</td>\n",
       "    </tr>\n",
       "    <tr>\n",
       "      <th>75%</th>\n",
       "      <td>2.728250</td>\n",
       "      <td>2.684250</td>\n",
       "      <td>5.345000</td>\n",
       "      <td>1.000000</td>\n",
       "      <td>1.000000</td>\n",
       "      <td>1.000000</td>\n",
       "      <td>1.000000</td>\n",
       "    </tr>\n",
       "    <tr>\n",
       "      <th>max</th>\n",
       "      <td>4.913000</td>\n",
       "      <td>4.967000</td>\n",
       "      <td>9.761000</td>\n",
       "      <td>1.000000</td>\n",
       "      <td>1.000000</td>\n",
       "      <td>1.000000</td>\n",
       "      <td>1.000000</td>\n",
       "    </tr>\n",
       "  </tbody>\n",
       "</table>\n",
       "</div>"
      ],
      "text/plain": [
       "            h_cats       h_dogs     h_stocks        click  sub_reddit_cats  \\\n",
       "count  5000.000000  5000.000000  5000.000000  5000.000000      5000.000000   \n",
       "mean      1.852538     1.857214     3.693698     0.405600         0.333200   \n",
       "std       1.168584     1.146824     2.291457     0.491057         0.471405   \n",
       "min       0.000000     0.001000     0.000000     0.000000         0.000000   \n",
       "25%       0.881000     0.888000     1.780750     0.000000         0.000000   \n",
       "50%       1.766000     1.779500     3.555000     0.000000         0.000000   \n",
       "75%       2.728250     2.684250     5.345000     1.000000         1.000000   \n",
       "max       4.913000     4.967000     9.761000     1.000000         1.000000   \n",
       "\n",
       "       sub_reddit_dogs  sub_reddit_stocks  \n",
       "count      5000.000000        5000.000000  \n",
       "mean          0.337200           0.329600  \n",
       "std           0.472801           0.470115  \n",
       "min           0.000000           0.000000  \n",
       "25%           0.000000           0.000000  \n",
       "50%           0.000000           0.000000  \n",
       "75%           1.000000           1.000000  \n",
       "max           1.000000           1.000000  "
      ]
     },
     "execution_count": 6,
     "metadata": {},
     "output_type": "execute_result"
    }
   ],
   "source": [
    "from sklearn.preprocessing import OneHotEncoder\n",
    "\n",
    "oneHotEncoder = OneHotEncoder(handle_unknown='ignore')\n",
    "sub_reddit_numeric = oneHotEncoder.fit_transform(raw_df[['sub_reddit']]).toarray()  \n",
    "\n",
    "raw_df[oneHotEncoder.get_feature_names_out(['sub_reddit'])] = sub_reddit_numeric\n",
    "raw_df.describe()\n"
   ]
  },
  {
   "cell_type": "code",
   "execution_count": 7,
   "id": "cbc603e5-b8af-49d3-b4f5-0d66bfd0f0b7",
   "metadata": {},
   "outputs": [
    {
     "name": "stdout",
     "output_type": "stream",
     "text": [
      "<class 'pandas.core.frame.DataFrame'>\n",
      "RangeIndex: 5000 entries, 0 to 4999\n",
      "Data columns (total 7 columns):\n",
      " #   Column             Non-Null Count  Dtype  \n",
      "---  ------             --------------  -----  \n",
      " 0   h_cats             5000 non-null   float64\n",
      " 1   h_dogs             5000 non-null   float64\n",
      " 2   h_stocks           5000 non-null   float64\n",
      " 3   click              5000 non-null   int64  \n",
      " 4   sub_reddit_cats    5000 non-null   float64\n",
      " 5   sub_reddit_dogs    5000 non-null   float64\n",
      " 6   sub_reddit_stocks  5000 non-null   float64\n",
      "dtypes: float64(6), int64(1)\n",
      "memory usage: 273.6 KB\n"
     ]
    }
   ],
   "source": [
    "# Drop unwanted features\n",
    "ignore_features = [\n",
    "    'sub_reddit'\n",
    "]\n",
    "\n",
    "train_data =  raw_df.drop(ignore_features, axis=1)\n",
    "train_data.info()"
   ]
  },
  {
   "cell_type": "code",
   "execution_count": 8,
   "id": "57f24767-a6ae-4685-8d52-a4d48276e380",
   "metadata": {},
   "outputs": [
    {
     "data": {
      "text/plain": [
       "((4000, 7), (1000, 7))"
      ]
     },
     "execution_count": 8,
     "metadata": {},
     "output_type": "execute_result"
    }
   ],
   "source": [
    "from sklearn.model_selection import train_test_split\n",
    "RANDOM_STATE = 7\n",
    "TEST_SIZE = 0.2 \n",
    "\n",
    "train, test = train_test_split(train_data, random_state=RANDOM_STATE, test_size = TEST_SIZE)\n",
    "\n",
    "train.shape, test.shape"
   ]
  },
  {
   "cell_type": "code",
   "execution_count": 9,
   "id": "1a4a8227-5f81-4eeb-9fae-1a4116c9bea3",
   "metadata": {},
   "outputs": [
    {
     "data": {
      "text/plain": [
       "((4000, 6), (4000,), (1000, 6), (1000,))"
      ]
     },
     "execution_count": 9,
     "metadata": {},
     "output_type": "execute_result"
    }
   ],
   "source": [
    "X_train = train.drop('click', axis = 1)\n",
    "Y_train = train['click']\n",
    "\n",
    "X_test = test.drop('click', axis = 1)\n",
    "Y_test = test['click']\n",
    "\n",
    "\n",
    "X_train.shape, Y_train.shape, X_test.shape, Y_test.shape"
   ]
  },
  {
   "cell_type": "code",
   "execution_count": 35,
   "id": "c3621894-cc75-4e22-8d5d-f86a2cae1a05",
   "metadata": {},
   "outputs": [],
   "source": [
    "from sklearn.metrics import confusion_matrix, accuracy_score, precision_score, recall_score, f1_score, roc_auc_score,precision_recall_curve, make_scorer\n",
    "    \n",
    "def metrics(Y_test, Y_pred, Y_pred_proba):\n",
    "    print(f\"Confusion Matrix: \\n{confusion_matrix(Y_test, Y_pred)}\")\n",
    "    print(f\"Accuracy: {accuracy_score(Y_test, Y_pred)}\")\n",
    "    print(f\"Precision: {precision_score(Y_test, Y_pred)}\")\n",
    "    print(f\"Recall: {recall_score(Y_test, Y_pred)}\")\n",
    "    # print(f\"F1 Score: {f1_score(Y_test, Y_pred)}\")\n",
    "    # print(f\"ROC-AUC Score: {roc_auc_score(Y_test, Y_pred)}\")\n",
    "    \n",
    "    p,r,_ = precision_recall_curve(Y_test, Y_pred_proba)\n",
    "    print(f\"PR-AUC Score: {auc(r, p)}\")\n",
    "\n",
    "def pr_auc_score(y_true, y_proba):\n",
    "    precision, recall, _ = precision_recall_curve(y_true, y_proba)\n",
    "    return  auc(recall, precision)"
   ]
  },
  {
   "cell_type": "code",
   "execution_count": 23,
   "id": "c9870ac1-0732-4c3d-b2e3-1389f15ec054",
   "metadata": {},
   "outputs": [
    {
     "name": "stdout",
     "output_type": "stream",
     "text": [
      "Confusion Matrix: \n",
      "[[502  84]\n",
      " [202 212]]\n",
      "Accuracy: 0.714\n",
      "Precision: 0.7162162162162162\n",
      "Recall: 0.5120772946859904\n",
      "PR-AUC Score: 0.6374608739445999\n"
     ]
    }
   ],
   "source": [
    "from sklearn.linear_model import LogisticRegression\n",
    "from sklearn.metrics import accuracy_score\n",
    "\n",
    "model = LogisticRegression(max_iter=200, random_state=RANDOM_STATE)\n",
    "model.fit(X_train, Y_train)\n",
    "Y_pred = model.predict(X_test)\n",
    "Y_pred_proba = model.predict_proba(X_test)\n",
    "Y_pred_proba = Y_pred_proba[:, 1]\n",
    "metrics(Y_test, Y_pred, Y_pred_proba)"
   ]
  },
  {
   "cell_type": "code",
   "execution_count": 24,
   "id": "d6a29d89-982c-408e-878c-2c5199b6eaa2",
   "metadata": {},
   "outputs": [
    {
     "name": "stdout",
     "output_type": "stream",
     "text": [
      "Confusion Matrix: \n",
      "[[553  33]\n",
      " [ 23 391]]\n",
      "Accuracy: 0.944\n",
      "Precision: 0.9221698113207547\n",
      "Recall: 0.9444444444444444\n",
      "PR-AUC Score: 0.9765491489771837\n"
     ]
    }
   ],
   "source": [
    "from sklearn.tree import DecisionTreeClassifier\n",
    "\n",
    "model = DecisionTreeClassifier(\n",
    "    criterion='entropy',\n",
    "    max_depth=10, \n",
    "    min_samples_leaf=10,\n",
    "    random_state=RANDOM_STATE,\n",
    ")\n",
    "model.fit(X_train, Y_train)\n",
    "Y_pred = model.predict(X_test)\n",
    "Y_pred_proba = model.predict_proba(X_test)\n",
    "Y_pred_proba = Y_pred_proba[:, 1]\n",
    "metrics(Y_test, Y_pred, Y_pred_proba)"
   ]
  },
  {
   "cell_type": "code",
   "execution_count": 31,
   "id": "e619a021-fe56-4181-bc11-983d52189698",
   "metadata": {},
   "outputs": [
    {
     "name": "stdout",
     "output_type": "stream",
     "text": [
      "(1000,)\n",
      "PR-AUC: 0.9662139543309475\n",
      "(1000,)\n",
      "PR-AUC: 0.9723389922789749\n",
      "(1000,)\n",
      "PR-AUC: 0.9654703131144331\n",
      "(1000,)\n",
      "PR-AUC: 0.9666539833306538\n",
      "(1000,)\n",
      "PR-AUC: 0.9770027278660958\n"
     ]
    }
   ],
   "source": [
    "from sklearn.model_selection import GroupKFold\n",
    "\n",
    "X = train_data.drop(columns=['click'])\n",
    "Y = train_data['click']\n",
    "X.shape, Y.shape\n",
    "\n",
    "groups = [ i for i in range(len(X))]\n",
    "gkf = GroupKFold(n_splits=5)\n",
    "\n",
    "for train_idx, test_idx in gkf.split(X, Y, groups):\n",
    "    X_train, X_test = X.iloc[train_idx], X.iloc[test_idx]\n",
    "    Y_train, Y_test = Y.iloc[train_idx], Y.iloc[test_idx]\n",
    "\n",
    "    dtc = DecisionTreeClassifier(\n",
    "        criterion='entropy',\n",
    "        max_depth=10, \n",
    "        min_samples_leaf=10,\n",
    "        random_state=RANDOM_STATE,\n",
    "    )\n",
    "    \n",
    "    dtc.fit(X_train, Y_train)\n",
    "    y_proba = dtc.predict_proba(X_test)\n",
    "    print(y_proba[:, 1].shape)\n",
    "    pr_auc = pr_auc_score(Y_test, y_proba[:, 1])\n",
    "\n",
    "    print(f\"PR-AUC: {pr_auc}\")\n"
   ]
  },
  {
   "cell_type": "code",
   "execution_count": 39,
   "id": "ab7597bc-0fe8-47a5-98bf-f77027299901",
   "metadata": {},
   "outputs": [
    {
     "name": "stdout",
     "output_type": "stream",
     "text": [
      "Best Hyperparameters: {'criterion': 'entropy', 'max_depth': 10, 'min_samples_leaf': 2, 'min_samples_split': 2, 'random_state': 42}\n",
      "Best PR-AUC Score: 0.9574421676984164\n"
     ]
    }
   ],
   "source": [
    "from sklearn.model_selection import GridSearchCV\n",
    "\n",
    "pr_auc_scorer = make_scorer(pr_auc_score, needs_proba=True)\n",
    "\n",
    "param_grid = {\n",
    "    # DecisionTree Hyperparameters\n",
    "    'criterion': ['gini', 'entropy'],\n",
    "    'max_depth': [10, 20],\n",
    "    \n",
    "    # GradientBoostedTrees Hyperparameters\n",
    "    # 'n_estimators': [100, 200],\n",
    "    # 'criterion': [\"friedman_mse\"],\n",
    "    # \"learning_rate\": [0.01, 0.05],\n",
    "    # 'max_depth': [3, 5],\n",
    "\n",
    "    # Common Hyperparameters\n",
    "   \n",
    "    'min_samples_split': [2, 4],\n",
    "    'min_samples_leaf': [1, 2],\n",
    "    'random_state': [42]\n",
    "}\n",
    "\n",
    "\n",
    "dtc = DecisionTreeClassifier()\n",
    "\n",
    "grid_search = GridSearchCV(\n",
    "    estimator=dtc, \n",
    "    param_grid=param_grid, \n",
    "    cv=gkf, # Cross validation with 5 splits\n",
    "    scoring=pr_auc_scorer, # PR AUC\n",
    "    n_jobs = 1 # Parallel Execution\n",
    ")\n",
    "\n",
    "\n",
    "grid_search.fit(X, Y, groups=groups)\n",
    "print(\"Best Hyperparameters:\", grid_search.best_params_)\n",
    "print(\"Best PR-AUC Score:\", grid_search.best_score_)\n"
   ]
  },
  {
   "cell_type": "code",
   "execution_count": 40,
   "id": "ae44e7b5-4bb1-4e47-9ad2-28cb17fccd96",
   "metadata": {},
   "outputs": [
    {
     "name": "stdout",
     "output_type": "stream",
     "text": [
      "\n",
      " --- Top Features ------ \n",
      "h_stocks:\t0.2884\n",
      "sub_reddit_stocks:\t0.2682\n",
      "h_dogs:\t0.2267\n",
      "h_cats:\t0.216\n",
      "sub_reddit_dogs:\t0.0004\n",
      "sub_reddit_cats:\t0.0003\n"
     ]
    }
   ],
   "source": [
    "features = X.columns\n",
    "features = list(zip(features, grid_search.best_estimator_.feature_importances_))\n",
    "features.sort(key=lambda x: x[1], reverse=True)\n",
    "\n",
    "print(f\"\\n --- Top Features ------ \")\n",
    "for i in range(len(X.columns)):\n",
    "    print(f\"{features[i][0]}:\\t{round(features[i][1], 4)}\")"
   ]
  },
  {
   "cell_type": "code",
   "execution_count": null,
   "id": "0d3c3fd1-76fe-4b41-829c-19c07d3b87c7",
   "metadata": {},
   "outputs": [],
   "source": []
  }
 ],
 "metadata": {
  "kernelspec": {
   "display_name": "Python 3 (ipykernel)",
   "language": "python",
   "name": "python3"
  },
  "language_info": {
   "codemirror_mode": {
    "name": "ipython",
    "version": 3
   },
   "file_extension": ".py",
   "mimetype": "text/x-python",
   "name": "python",
   "nbconvert_exporter": "python",
   "pygments_lexer": "ipython3",
   "version": "3.10.6"
  }
 },
 "nbformat": 4,
 "nbformat_minor": 5
}
