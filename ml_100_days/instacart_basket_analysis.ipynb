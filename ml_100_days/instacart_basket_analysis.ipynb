{
 "cells": [
  {
   "cell_type": "code",
   "execution_count": null,
   "metadata": {},
   "outputs": [],
   "source": [
    "import pandas as pd\n",
    "import numpy as np\n",
    "from pathlib import Path\n",
    "\n",
    "pd.set_option('display.max_columns', None)\n",
    "pd.set_option('display.width', 1000)"
   ]
  },
  {
   "cell_type": "code",
   "execution_count": null,
   "metadata": {},
   "outputs": [],
   "source": [
    "prefix_path = \"/Users/skoneru/workspace/interview_prep/ml_100_days/datasets/instacart-market-basket-analysis\""
   ]
  },
  {
   "cell_type": "code",
   "execution_count": null,
   "metadata": {},
   "outputs": [],
   "source": [
    "products = pd.read_csv(Path(f\"{prefix_path}/products.csv\"))\n",
    "print(\"\\n Products Table\")\n",
    "print(products.head())\n",
    "\n",
    "aisles = pd.read_csv(Path(f\"{prefix_path}/aisles.csv\"))\n",
    "print(\"\\n Aisles Table\")\n",
    "print(aisles.head())\n",
    "\n",
    "departments = pd.read_csv(Path(f\"{prefix_path}/departments.csv\"))\n",
    "print(\"\\n Departments Table\")\n",
    "print(departments.head())\n",
    "\n"
   ]
  },
  {
   "cell_type": "code",
   "execution_count": null,
   "metadata": {},
   "outputs": [],
   "source": [
    "orders_data = pd.read_csv(Path(f\"{prefix_path}/orders.csv\"))\n",
    "print(orders_data.head())\n",
    "print(orders_data.info())\n",
    "print(orders_data.describe(include=[np.number]))\n",
    "print(orders_data.describe(exclude=[np.number]))\n",
    "\n",
    "order_products_prior = pd.read_csv(Path(f\"{prefix_path}/order_products__prior.csv\"))\n",
    "print(order_products_prior.head())\n",
    "print(order_products_prior.info())\n",
    "print(order_products_prior.describe(include=[np.number]))\n",
    "\n",
    "\n",
    "order_products_train = pd.read_csv(Path(f\"{prefix_path}/order_products__train.csv\"))\n",
    "print(order_products_train.head())\n",
    "print(order_products_train.info())\n",
    "print(order_products_train.describe(include=[np.number]))\n"
   ]
  },
  {
   "cell_type": "code",
   "execution_count": null,
   "metadata": {},
   "outputs": [],
   "source": [
    "full_products = products.merge(aisles, how=\"left\", on=\"aisle_id\")\n",
    "full_products = full_products.merge(departments, how=\"left\", on=\"department_id\")\n",
    "full_products"
   ]
  },
  {
   "cell_type": "code",
   "execution_count": null,
   "metadata": {},
   "outputs": [],
   "source": [
    "full_order_products_prior = order_products_prior.merge(orders_data, how=\"left\", on=\"order_id\")\n",
    "full_order_products_train = order_products_train.merge(orders_data, how=\"left\", on=\"order_id\")\n",
    "\n",
    "full_order_products_prior = full_order_products_prior.merge(full_products, how=\"left\", on=\"product_id\")\n",
    "full_order_products_train = full_order_products_train.merge(full_products, how=\"left\", on=\"product_id\")\n",
    "\n",
    "full_order_products_prior.info()\n",
    "full_order_products_train.info()"
   ]
  },
  {
   "cell_type": "markdown",
   "metadata": {},
   "source": [
    "# Compute User Stats"
   ]
  },
  {
   "cell_type": "code",
   "execution_count": null,
   "metadata": {},
   "outputs": [],
   "source": [
    "user_orders = orders_data.groupby(\"user_id\").size().reset_index(name=\"total_orders\")\n",
    "print(user_orders.head())\n",
    "\n",
    "user_products_features = full_order_products_prior.groupby([\"user_id\", \"product_id\"]).size().reset_index(name=\"total_bought\")\n",
    "user_products_features = user_products_features.sort_values(by=[\"user_id\", \"product_id\"])\n",
    "print(user_products_features.head())\n",
    "\n",
    "# Compute average order size per user \n",
    "order_quantity = full_order_products_prior.groupby([\"user_id\", \"order_id\", \"product_id\"]).size().reset_index(name=\"order_quantity\")\n",
    "print(order_quantity.head())\n",
    "order_quantity = order_quantity.groupby([\"user_id\", \"product_id\"])[\"order_quantity\"].mean().reset_index(name=\"avg_order_quantity\")\n",
    "print(order_quantity.head())\n",
    "\n",
    "# compute number of times a product was bought by a user on last 5 orders\n",
    "last_5_orders = orders_data[orders_data[\"order_number\"] > 5]\n",
    "last_order_products_prior = last_5_orders.merge(order_products_prior, how=\"left\", on=\"order_id\")\n",
    "print(last_order_products_prior.info())\n",
    "\n",
    "last_n_user_products_features = last_order_products_prior.groupby([\"user_id\", \"product_id\"]).size().reset_index(name=\"total_bought_last_5_orders\")\n",
    "last_n_user_products_features = last_n_user_products_features.sort_values(by=[\"user_id\", \"product_id\"])\n",
    "print(last_n_user_products_features.head())\n",
    "\n"
   ]
  },
  {
   "cell_type": "code",
   "execution_count": null,
   "metadata": {},
   "outputs": [],
   "source": [
    "# reorder ration of a product by a user\n",
    "reorder_ratio = full_order_products_prior.groupby([\"user_id\",\"product_id\"])[\"reordered\"].mean().reset_index(name=\"reorder_ratio\")\n",
    "reorder_ratio.sort_values(by=\"reorder_ratio\", ascending=False, inplace=True)\n",
    "print(reorder_ratio.head())"
   ]
  },
  {
   "cell_type": "code",
   "execution_count": null,
   "metadata": {},
   "outputs": [],
   "source": [
    "\n",
    "prior_features = user_products_features.merge( user_orders, how=\"left\", on=[\"user_id\",  \"product_id\"])\n",
    "prior_features = prior_features.merge(order_quantity, how=\"left\", on=[\"user_id\", \"product_id\"])\n",
    "prior_features = prior_features.merge(last_n_user_products_features, how=\"left\", on=[\"user_id\", \"product_id\"])\n",
    "prior_features = prior_features.merge(reorder_ratio, how=\"left\", on=[\"user_id\", \"product_id\"])\n",
    "\n",
    "\n",
    "prior_features"
   ]
  }
 ],
 "metadata": {
  "kernelspec": {
   "display_name": "interview_prep",
   "language": "python",
   "name": "python3"
  },
  "language_info": {
   "codemirror_mode": {
    "name": "ipython",
    "version": 3
   },
   "file_extension": ".py",
   "mimetype": "text/x-python",
   "name": "python",
   "nbconvert_exporter": "python",
   "pygments_lexer": "ipython3",
   "version": "3.10.14"
  }
 },
 "nbformat": 4,
 "nbformat_minor": 2
}
