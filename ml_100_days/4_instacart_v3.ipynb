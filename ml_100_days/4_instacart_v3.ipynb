{
 "cells": [
  {
   "cell_type": "markdown",
   "metadata": {},
   "source": [
    "# Instacart Product recommendations\n",
    "Kaggle Competition: https://www.kaggle.com/c/instacart-market-basket-analysis"
   ]
  },
  {
   "cell_type": "code",
   "execution_count": 1,
   "metadata": {},
   "outputs": [],
   "source": [
    "# ! pip install shap\n"
   ]
  },
  {
   "cell_type": "code",
   "execution_count": 2,
   "metadata": {},
   "outputs": [],
   "source": [
    "import pandas as pd\n",
    "pd.set_option('display.width', 1000)"
   ]
  },
  {
   "cell_type": "markdown",
   "metadata": {},
   "source": [
    "# Load Data"
   ]
  },
  {
   "cell_type": "code",
   "execution_count": 3,
   "metadata": {},
   "outputs": [
    {
     "name": "stdout",
     "output_type": "stream",
     "text": [
      "   product_id                product_name  aisle_id  department_id\n",
      "0           1  Chocolate Sandwich Cookies        61             19\n",
      "1           2            All-Seasons Salt       104             13\n",
      "(49688, 4)\n",
      "   department_id department\n",
      "0              1     frozen\n",
      "1              2      other\n",
      "(21, 2)\n",
      "   aisle_id                  aisle\n",
      "0         1  prepared soups salads\n",
      "1         2      specialty cheeses\n",
      "(134, 2)\n"
     ]
    }
   ],
   "source": [
    "products = pd.read_csv(\"datasets/instacart-market-basket-analysis/products.csv\")\n",
    "print(products.head(2))\n",
    "print(f\"{products.shape}\")\n",
    "\n",
    "departments = pd.read_csv(\"datasets/instacart-market-basket-analysis/departments.csv\")\n",
    "print(departments.head(2))\n",
    "print(f\"{departments.shape}\")\n",
    "\n",
    "aisles = pd.read_csv(\"datasets/instacart-market-basket-analysis/aisles.csv\")\n",
    "print(aisles.head(2))\n",
    "print(f\"{aisles.shape}\")\n"
   ]
  },
  {
   "cell_type": "code",
   "execution_count": 4,
   "metadata": {},
   "outputs": [
    {
     "name": "stdout",
     "output_type": "stream",
     "text": [
      "   order_id  user_id eval_set  order_number  order_dow  order_hour_of_day  days_since_prior_order\n",
      "0   2539329        1    prior             1          2                  8                     NaN\n",
      "1   2398795        1    prior             2          3                  7                    15.0\n",
      "(3421083, 7)\n",
      "   order_id  product_id  add_to_cart_order  reordered\n",
      "0         2       33120                  1          1\n",
      "1         2       28985                  2          1\n",
      "(32434489, 4)\n",
      "   order_id  product_id  add_to_cart_order  reordered\n",
      "0         1       49302                  1          1\n",
      "1         1       11109                  2          1\n",
      "(1384617, 4)\n"
     ]
    }
   ],
   "source": [
    "orders = pd.read_csv(\"datasets/instacart-market-basket-analysis/orders.csv\")\n",
    "print(orders.head(2))\n",
    "print(f\"{orders.shape}\")\n",
    "\n",
    "orders_products_prior = pd.read_csv(\"datasets/instacart-market-basket-analysis/order_products__prior.csv\")\n",
    "print(orders_products_prior.head(2))\n",
    "print(f\"{orders_products_prior.shape}\")\n",
    "\n",
    "orders_products_train = pd.read_csv(\"datasets/instacart-market-basket-analysis/order_products__train.csv\")\n",
    "print(orders_products_train.head(2))\n",
    "print(f\"{orders_products_train.shape}\")\n"
   ]
  },
  {
   "cell_type": "code",
   "execution_count": 5,
   "metadata": {},
   "outputs": [],
   "source": [
    "# Goal is to predict which previously ordered items will be in next user order\n",
    "# Extract a small sample set and perform EDA\n",
    "# Featues\n",
    "# Model Design:\n",
    "# Input : [User , Product] -> [Probability of ordering again]\n",
    "# \n",
    "# Features:\n",
    "# User: Counts: Total Orders, Order frequency, Avg unique products, Avg total items,       \n",
    "# Product: Avg order items, Order frequency\n",
    "# User-product: Order frequency per order, Order frequency per days\n",
    "# Label: Reordered"
   ]
  },
  {
   "cell_type": "markdown",
   "metadata": {},
   "source": [
    "# User Features"
   ]
  },
  {
   "cell_type": "code",
   "execution_count": 6,
   "metadata": {},
   "outputs": [
    {
     "name": "stdout",
     "output_type": "stream",
     "text": [
      "<class 'pandas.core.frame.DataFrame'>\n",
      "RangeIndex: 3421083 entries, 0 to 3421082\n",
      "Data columns (total 7 columns):\n",
      " #   Column                  Dtype  \n",
      "---  ------                  -----  \n",
      " 0   order_id                int64  \n",
      " 1   user_id                 int64  \n",
      " 2   eval_set                object \n",
      " 3   order_number            int64  \n",
      " 4   order_dow               int64  \n",
      " 5   order_hour_of_day       int64  \n",
      " 6   days_since_prior_order  float64\n",
      "dtypes: float64(1), int64(5), object(1)\n",
      "memory usage: 182.7+ MB\n"
     ]
    }
   ],
   "source": [
    "orders.info()"
   ]
  },
  {
   "cell_type": "code",
   "execution_count": 7,
   "metadata": {},
   "outputs": [],
   "source": [
    "# exrtact prior orders for processing features\n",
    "prior_orders = orders[orders.eval_set=='prior']"
   ]
  },
  {
   "cell_type": "code",
   "execution_count": 8,
   "metadata": {},
   "outputs": [
    {
     "name": "stdout",
     "output_type": "stream",
     "text": [
      "   user_id  u_total_orders\n",
      "0        1              10\n",
      "1        2              14\n",
      "   user_id  u_history_days\n",
      "0        1           176.0\n",
      "1        2           198.0\n",
      "   user_id  u_total_orders  u_history_days  u_order_frequency_days\n",
      "0        1              10           176.0               17.600000\n",
      "1        2              14           198.0               14.142857\n",
      "(206209, 4)\n"
     ]
    }
   ],
   "source": [
    "u_total_orders = prior_orders.groupby('user_id')['order_id'].count().reset_index(name='u_total_orders')\n",
    "print(u_total_orders.head(2))\n",
    "u_history = prior_orders.groupby('user_id')['days_since_prior_order'].sum().reset_index(name='u_history_days')\n",
    "print(u_history.head(2))\n",
    "\n",
    "u_total_orders = u_total_orders.merge(u_history, on='user_id', how='left')\n",
    "u_total_orders['u_order_frequency_days'] = u_total_orders['u_history_days']/u_total_orders['u_total_orders']\n",
    "u_features = u_total_orders\n",
    "\n",
    "print(u_features.head(2))\n",
    "print(u_features.shape)"
   ]
  },
  {
   "cell_type": "markdown",
   "metadata": {},
   "source": [
    "# Product Features"
   ]
  },
  {
   "cell_type": "code",
   "execution_count": 9,
   "metadata": {},
   "outputs": [
    {
     "name": "stdout",
     "output_type": "stream",
     "text": [
      "   order_id  user_id eval_set  order_number  order_dow  order_hour_of_day  days_since_prior_order  product_id  add_to_cart_order  reordered\n",
      "0   2539329        1    prior             1          2                  8                     NaN         196                  1          0\n",
      "1   2539329        1    prior             1          2                  8                     NaN       14084                  2          0\n",
      "(32434489, 10)\n",
      "   product_id  p_total_orders\n",
      "0           1            1852\n",
      "1           2              90\n",
      "   product_id  p_reorder_rate_per_order\n",
      "0           1                  0.613391\n",
      "1           2                  0.133333\n",
      "   product_id  p_total_orders  p_reorder_rate_per_order\n",
      "0           1            1852                  0.613391\n",
      "1           2              90                  0.133333\n",
      "(49677, 3)\n"
     ]
    }
   ],
   "source": [
    "prior_order_products = pd.merge(prior_orders, orders_products_prior, on=\"order_id\", how=\"left\")\n",
    "print(prior_order_products.head(2))\n",
    "print(f\"{prior_order_products.shape}\")\n",
    "\n",
    "p_total_orders = prior_order_products.groupby('product_id')['order_id'].count().reset_index(name='p_total_orders')\n",
    "print(p_total_orders.head(2))\n",
    "\n",
    "p_order_frequency_per_order = prior_order_products.groupby('product_id')['reordered'].mean().reset_index(name='p_reorder_rate_per_order')\n",
    "print(p_order_frequency_per_order.head(2))\n",
    "\n",
    "p_features = p_total_orders.merge(p_order_frequency_per_order, on='product_id', how='left')\n",
    "print(p_features.head(2))\n",
    "print(p_features.shape)"
   ]
  },
  {
   "cell_type": "markdown",
   "metadata": {},
   "source": [
    "# User x Product Features"
   ]
  },
  {
   "cell_type": "code",
   "execution_count": 10,
   "metadata": {},
   "outputs": [
    {
     "name": "stdout",
     "output_type": "stream",
     "text": [
      "   user_id  product_id  uxp_reorder_rate_per_order\n",
      "0        1         196                    0.900000\n",
      "1        1       10258                    0.888889\n",
      "(13307953, 3)\n"
     ]
    }
   ],
   "source": [
    "uxp_reorder_rate = prior_order_products.groupby(['user_id', 'product_id'])['reordered'].mean().reset_index(name='uxp_reorder_rate_per_order')\n",
    "\n",
    "# uxp_reorders = prior_order_products.groupby(['user_id', 'product_id']).size().reset_index(name='uxp_total_orders')\n",
    "\n",
    "# uxp_reorder_rate = uxp_reorder_rate.merge(uxp_reorders, on=['user_id', 'product_id'], how='left')\n",
    "\n",
    "print(uxp_reorder_rate.head(2))\n",
    "print(uxp_reorder_rate.shape)\n"
   ]
  },
  {
   "cell_type": "markdown",
   "metadata": {},
   "source": [
    "# Build Train Data"
   ]
  },
  {
   "cell_type": "code",
   "execution_count": 11,
   "metadata": {},
   "outputs": [
    {
     "name": "stdout",
     "output_type": "stream",
     "text": [
      "(131209, 7)\n",
      "   order_id  user_id eval_set  order_number  order_dow  order_hour_of_day  days_since_prior_order  product_id  add_to_cart_order  reordered\n",
      "0   1187899        1    train            11          4                  8                    14.0         196                  1          1\n",
      "1   1187899        1    train            11          4                  8                    14.0       25133                  2          1\n",
      "(1384617, 10)\n",
      "   order_id  user_id eval_set  order_number  order_dow  order_hour_of_day  days_since_prior_order  product_id  add_to_cart_order  reordered  u_total_orders  u_history_days  u_order_frequency_days\n",
      "0   1187899        1    train            11          4                  8                    14.0         196                  1          1              10           176.0                    17.6\n",
      "1   1187899        1    train            11          4                  8                    14.0       25133                  2          1              10           176.0                    17.6\n",
      "   order_id  user_id eval_set  order_number  order_dow  order_hour_of_day  days_since_prior_order  product_id  add_to_cart_order  reordered  u_total_orders  u_history_days  u_order_frequency_days  p_total_orders  p_reorder_rate_per_order\n",
      "0   1187899        1    train            11          4                  8                    14.0         196                  1          1              10           176.0                    17.6         35791.0                  0.776480\n",
      "1   1187899        1    train            11          4                  8                    14.0       25133                  2          1              10           176.0                    17.6          6196.0                  0.740155\n",
      "   order_id  user_id eval_set  order_number  order_dow  order_hour_of_day  days_since_prior_order  product_id  add_to_cart_order  reordered  u_total_orders  u_history_days  u_order_frequency_days  p_total_orders  p_reorder_rate_per_order  uxp_reorder_rate_per_order\n",
      "0   1187899        1    train            11          4                  8                    14.0         196                  1          1              10           176.0                    17.6         35791.0                  0.776480                       0.900\n",
      "1   1187899        1    train            11          4                  8                    14.0       25133                  2          1              10           176.0                    17.6          6196.0                  0.740155                       0.875\n",
      "   order_number  order_dow  order_hour_of_day  days_since_prior_order  add_to_cart_order  reordered  u_total_orders  u_history_days  u_order_frequency_days  p_total_orders  p_reorder_rate_per_order  uxp_reorder_rate_per_order  p_reorder_rate_per_day\n",
      "0            11          4                  8                    14.0                  1          1              10           176.0                    17.6         35791.0                  0.776480                    0.900000               13.666050\n",
      "1            11          4                  8                    14.0                  2          1              10           176.0                    17.6          6196.0                  0.740155                    0.875000               13.026727\n",
      "2            11          4                  8                    14.0                  3          1              10           176.0                    17.6         13238.0                  0.827769                    0.000000               14.568726\n",
      "3            11          4                  8                    14.0                  4          1              10           176.0                    17.6          1214.0                  0.441516                    0.500000                7.770675\n",
      "4            11          4                  8                    14.0                  5          1              10           176.0                    17.6          5019.0                  0.766288                    0.000000               13.486671\n",
      "5            11          4                  8                    14.0                  6          1              10           176.0                    17.6          1946.0                  0.713772                    0.888889               12.562384\n",
      "6            11          4                  8                    14.0                  7          1              10           176.0                    17.6          3751.0                  0.657158                    0.666667               11.565982\n",
      "7            11          4                  8                    14.0                  8          1              10           176.0                    17.6          2523.0                  0.539041                    0.500000                9.487119\n",
      "8            11          4                  8                    14.0                  9          0              10           176.0                    17.6        137905.0                  0.830354                         NaN               14.614234\n",
      "9            11          4                  8                    14.0                 10          1              10           176.0                    17.6         76360.0                  0.781456                    0.500000               13.753630\n"
     ]
    }
   ],
   "source": [
    "# orders train\n",
    "# combine with user, product and uxp features\n",
    "# remove unnecessayr columns\n",
    "# split to train and test\n",
    "\n",
    "orders_train = orders[orders.eval_set=='train']\n",
    "print(orders_train.shape)\n",
    "\n",
    "order_products_train = pd.merge(orders_train, orders_products_train, on='order_id', how='left')\n",
    "print(order_products_train.head(2))\n",
    "print(order_products_train.shape)\n",
    "\n",
    "# merge user feaures\n",
    "features_dataset = order_products_train.merge(u_features, on='user_id', how='left')\n",
    "print(features_dataset.head(2))\n",
    "\n",
    "# merge product features\n",
    "features_dataset = features_dataset.merge(p_features, on='product_id', how='left')\n",
    "print(features_dataset.head(2))\n",
    "\n",
    "# merge uxp features\n",
    "features_dataset = features_dataset.merge(uxp_reorder_rate, on=['user_id', 'product_id'], how='left')\n",
    "print(features_dataset.head(2))\n",
    "\n",
    "# remove unwanted features\n",
    "features_dataset = features_dataset.drop(['eval_set', 'order_id', 'product_id', 'user_id'], axis=1)\n",
    "\n",
    "features_dataset[\"p_reorder_rate_per_day\"] = features_dataset[\"p_reorder_rate_per_order\"] * features_dataset[\"u_order_frequency_days\"]\n",
    "\n",
    "print(features_dataset.head(10))"
   ]
  },
  {
   "cell_type": "code",
   "execution_count": 12,
   "metadata": {},
   "outputs": [
    {
     "name": "stdout",
     "output_type": "stream",
     "text": [
      "order_number                       0\n",
      "order_dow                          0\n",
      "order_hour_of_day                  0\n",
      "days_since_prior_order             0\n",
      "add_to_cart_order                  0\n",
      "reordered                          0\n",
      "u_total_orders                     0\n",
      "u_history_days                     0\n",
      "u_order_frequency_days             0\n",
      "p_total_orders                     9\n",
      "p_reorder_rate_per_order           9\n",
      "uxp_reorder_rate_per_order    555793\n",
      "p_reorder_rate_per_day             9\n",
      "dtype: int64\n"
     ]
    },
    {
     "data": {
      "text/html": [
       "<div>\n",
       "<style scoped>\n",
       "    .dataframe tbody tr th:only-of-type {\n",
       "        vertical-align: middle;\n",
       "    }\n",
       "\n",
       "    .dataframe tbody tr th {\n",
       "        vertical-align: top;\n",
       "    }\n",
       "\n",
       "    .dataframe thead th {\n",
       "        text-align: right;\n",
       "    }\n",
       "</style>\n",
       "<table border=\"1\" class=\"dataframe\">\n",
       "  <thead>\n",
       "    <tr style=\"text-align: right;\">\n",
       "      <th></th>\n",
       "      <th>order_number</th>\n",
       "      <th>order_dow</th>\n",
       "      <th>order_hour_of_day</th>\n",
       "      <th>days_since_prior_order</th>\n",
       "      <th>add_to_cart_order</th>\n",
       "      <th>reordered</th>\n",
       "      <th>u_total_orders</th>\n",
       "      <th>u_history_days</th>\n",
       "      <th>u_order_frequency_days</th>\n",
       "      <th>p_total_orders</th>\n",
       "      <th>p_reorder_rate_per_order</th>\n",
       "      <th>uxp_reorder_rate_per_order</th>\n",
       "      <th>p_reorder_rate_per_day</th>\n",
       "    </tr>\n",
       "  </thead>\n",
       "  <tbody>\n",
       "    <tr>\n",
       "      <th>count</th>\n",
       "      <td>1.384617e+06</td>\n",
       "      <td>1.384617e+06</td>\n",
       "      <td>1.384617e+06</td>\n",
       "      <td>1.384617e+06</td>\n",
       "      <td>1.384617e+06</td>\n",
       "      <td>1.384617e+06</td>\n",
       "      <td>1.384617e+06</td>\n",
       "      <td>1.384617e+06</td>\n",
       "      <td>1.384617e+06</td>\n",
       "      <td>1.384617e+06</td>\n",
       "      <td>1.384617e+06</td>\n",
       "      <td>1.384617e+06</td>\n",
       "      <td>1.384617e+06</td>\n",
       "    </tr>\n",
       "    <tr>\n",
       "      <th>mean</th>\n",
       "      <td>1.709141e+01</td>\n",
       "      <td>2.701392e+00</td>\n",
       "      <td>1.357759e+01</td>\n",
       "      <td>1.706613e+01</td>\n",
       "      <td>8.758044e+00</td>\n",
       "      <td>5.985944e-01</td>\n",
       "      <td>1.609141e+01</td>\n",
       "      <td>1.620440e+02</td>\n",
       "      <td>1.275514e+01</td>\n",
       "      <td>3.434516e+04</td>\n",
       "      <td>5.789575e-01</td>\n",
       "      <td>3.120933e-01</td>\n",
       "      <td>7.356408e+00</td>\n",
       "    </tr>\n",
       "    <tr>\n",
       "      <th>std</th>\n",
       "      <td>1.661404e+01</td>\n",
       "      <td>2.167646e+00</td>\n",
       "      <td>4.238458e+00</td>\n",
       "      <td>1.042642e+01</td>\n",
       "      <td>7.423936e+00</td>\n",
       "      <td>4.901829e-01</td>\n",
       "      <td>1.661404e+01</td>\n",
       "      <td>1.050812e+02</td>\n",
       "      <td>5.290628e+00</td>\n",
       "      <td>7.765599e+04</td>\n",
       "      <td>1.533320e-01</td>\n",
       "      <td>3.771793e-01</td>\n",
       "      <td>3.670238e+00</td>\n",
       "    </tr>\n",
       "    <tr>\n",
       "      <th>min</th>\n",
       "      <td>4.000000e+00</td>\n",
       "      <td>0.000000e+00</td>\n",
       "      <td>0.000000e+00</td>\n",
       "      <td>0.000000e+00</td>\n",
       "      <td>1.000000e+00</td>\n",
       "      <td>0.000000e+00</td>\n",
       "      <td>3.000000e+00</td>\n",
       "      <td>0.000000e+00</td>\n",
       "      <td>0.000000e+00</td>\n",
       "      <td>0.000000e+00</td>\n",
       "      <td>0.000000e+00</td>\n",
       "      <td>0.000000e+00</td>\n",
       "      <td>0.000000e+00</td>\n",
       "    </tr>\n",
       "    <tr>\n",
       "      <th>25%</th>\n",
       "      <td>6.000000e+00</td>\n",
       "      <td>1.000000e+00</td>\n",
       "      <td>1.000000e+01</td>\n",
       "      <td>7.000000e+00</td>\n",
       "      <td>3.000000e+00</td>\n",
       "      <td>0.000000e+00</td>\n",
       "      <td>5.000000e+00</td>\n",
       "      <td>6.900000e+01</td>\n",
       "      <td>8.452381e+00</td>\n",
       "      <td>1.425000e+03</td>\n",
       "      <td>4.938119e-01</td>\n",
       "      <td>0.000000e+00</td>\n",
       "      <td>4.497901e+00</td>\n",
       "    </tr>\n",
       "    <tr>\n",
       "      <th>50%</th>\n",
       "      <td>1.100000e+01</td>\n",
       "      <td>3.000000e+00</td>\n",
       "      <td>1.400000e+01</td>\n",
       "      <td>1.500000e+01</td>\n",
       "      <td>7.000000e+00</td>\n",
       "      <td>1.000000e+00</td>\n",
       "      <td>1.000000e+01</td>\n",
       "      <td>1.400000e+02</td>\n",
       "      <td>1.253333e+01</td>\n",
       "      <td>6.220000e+03</td>\n",
       "      <td>6.017316e-01</td>\n",
       "      <td>0.000000e+00</td>\n",
       "      <td>6.926621e+00</td>\n",
       "    </tr>\n",
       "    <tr>\n",
       "      <th>75%</th>\n",
       "      <td>2.100000e+01</td>\n",
       "      <td>5.000000e+00</td>\n",
       "      <td>1.700000e+01</td>\n",
       "      <td>3.000000e+01</td>\n",
       "      <td>1.200000e+01</td>\n",
       "      <td>1.000000e+00</td>\n",
       "      <td>2.000000e+01</td>\n",
       "      <td>2.480000e+02</td>\n",
       "      <td>1.685714e+01</td>\n",
       "      <td>2.672100e+04</td>\n",
       "      <td>6.884462e-01</td>\n",
       "      <td>6.666667e-01</td>\n",
       "      <td>9.844176e+00</td>\n",
       "    </tr>\n",
       "    <tr>\n",
       "      <th>max</th>\n",
       "      <td>1.000000e+02</td>\n",
       "      <td>6.000000e+00</td>\n",
       "      <td>2.300000e+01</td>\n",
       "      <td>3.000000e+01</td>\n",
       "      <td>8.000000e+01</td>\n",
       "      <td>1.000000e+00</td>\n",
       "      <td>9.900000e+01</td>\n",
       "      <td>3.650000e+02</td>\n",
       "      <td>2.690909e+01</td>\n",
       "      <td>4.725650e+05</td>\n",
       "      <td>9.411765e-01</td>\n",
       "      <td>9.898990e-01</td>\n",
       "      <td>2.214190e+01</td>\n",
       "    </tr>\n",
       "  </tbody>\n",
       "</table>\n",
       "</div>"
      ],
      "text/plain": [
       "       order_number     order_dow  order_hour_of_day  days_since_prior_order  add_to_cart_order     reordered  u_total_orders  u_history_days  u_order_frequency_days  p_total_orders  p_reorder_rate_per_order  uxp_reorder_rate_per_order  p_reorder_rate_per_day\n",
       "count  1.384617e+06  1.384617e+06       1.384617e+06            1.384617e+06       1.384617e+06  1.384617e+06    1.384617e+06    1.384617e+06            1.384617e+06    1.384617e+06              1.384617e+06                1.384617e+06            1.384617e+06\n",
       "mean   1.709141e+01  2.701392e+00       1.357759e+01            1.706613e+01       8.758044e+00  5.985944e-01    1.609141e+01    1.620440e+02            1.275514e+01    3.434516e+04              5.789575e-01                3.120933e-01            7.356408e+00\n",
       "std    1.661404e+01  2.167646e+00       4.238458e+00            1.042642e+01       7.423936e+00  4.901829e-01    1.661404e+01    1.050812e+02            5.290628e+00    7.765599e+04              1.533320e-01                3.771793e-01            3.670238e+00\n",
       "min    4.000000e+00  0.000000e+00       0.000000e+00            0.000000e+00       1.000000e+00  0.000000e+00    3.000000e+00    0.000000e+00            0.000000e+00    0.000000e+00              0.000000e+00                0.000000e+00            0.000000e+00\n",
       "25%    6.000000e+00  1.000000e+00       1.000000e+01            7.000000e+00       3.000000e+00  0.000000e+00    5.000000e+00    6.900000e+01            8.452381e+00    1.425000e+03              4.938119e-01                0.000000e+00            4.497901e+00\n",
       "50%    1.100000e+01  3.000000e+00       1.400000e+01            1.500000e+01       7.000000e+00  1.000000e+00    1.000000e+01    1.400000e+02            1.253333e+01    6.220000e+03              6.017316e-01                0.000000e+00            6.926621e+00\n",
       "75%    2.100000e+01  5.000000e+00       1.700000e+01            3.000000e+01       1.200000e+01  1.000000e+00    2.000000e+01    2.480000e+02            1.685714e+01    2.672100e+04              6.884462e-01                6.666667e-01            9.844176e+00\n",
       "max    1.000000e+02  6.000000e+00       2.300000e+01            3.000000e+01       8.000000e+01  1.000000e+00    9.900000e+01    3.650000e+02            2.690909e+01    4.725650e+05              9.411765e-01                9.898990e-01            2.214190e+01"
      ]
     },
     "execution_count": 12,
     "metadata": {},
     "output_type": "execute_result"
    }
   ],
   "source": [
    "# print Nan values\n",
    "print(features_dataset.isnull().sum())\n",
    "features_dataset = features_dataset.fillna(0)\n",
    "features_dataset.describe()"
   ]
  },
  {
   "cell_type": "code",
   "execution_count": 13,
   "metadata": {},
   "outputs": [
    {
     "data": {
      "text/plain": [
       "reordered\n",
       "0    555793\n",
       "1    828824\n",
       "dtype: int64"
      ]
     },
     "execution_count": 13,
     "metadata": {},
     "output_type": "execute_result"
    }
   ],
   "source": [
    "features_dataset.groupby('reordered').size()"
   ]
  },
  {
   "cell_type": "code",
   "execution_count": 14,
   "metadata": {},
   "outputs": [],
   "source": [
    "# SPlit and train\n",
    "from sklearn.model_selection import train_test_split\n",
    "RANDOM_STATE = 7\n",
    "TEST_SIZE = 0.2 \n",
    "\n",
    "train, test = train_test_split(features_dataset, test_size=TEST_SIZE, random_state=RANDOM_STATE)\n",
    "X_train = train.drop('reordered', axis=1)\n",
    "Y_train = train['reordered']\n",
    "\n",
    "X_test = test.drop('reordered', axis=1)\n",
    "Y_test = test['reordered']\n"
   ]
  },
  {
   "cell_type": "code",
   "execution_count": 15,
   "metadata": {},
   "outputs": [],
   "source": [
    "def metrics(Y_test, Y_pred):\n",
    "    from sklearn.metrics import confusion_matrix, accuracy_score, precision_score, recall_score, f1_score\n",
    "    print(f\"Confusion Matrix: \\n{confusion_matrix(Y_test, Y_pred)}\")\n",
    "    print(f\"Accuracy: {accuracy_score(Y_test, Y_pred)}\")\n",
    "    print(f\"Precision: {precision_score(Y_test, Y_pred)}\")\n",
    "    print(f\"Recall: {recall_score(Y_test, Y_pred)}\")\n",
    "    print(f\"F1 Score: {f1_score(Y_test, Y_pred)}\")"
   ]
  },
  {
   "cell_type": "markdown",
   "metadata": {},
   "source": [
    "# Logistic Regression"
   ]
  },
  {
   "cell_type": "code",
   "execution_count": 16,
   "metadata": {},
   "outputs": [
    {
     "name": "stderr",
     "output_type": "stream",
     "text": [
      "/opt/homebrew/Caskroom/miniconda/base/envs/interview_prep/lib/python3.10/site-packages/sklearn/linear_model/_logistic.py:469: ConvergenceWarning: lbfgs failed to converge (status=1):\n",
      "STOP: TOTAL NO. of ITERATIONS REACHED LIMIT.\n",
      "\n",
      "Increase the number of iterations (max_iter) or scale the data as shown in:\n",
      "    https://scikit-learn.org/stable/modules/preprocessing.html\n",
      "Please also refer to the documentation for alternative solver options:\n",
      "    https://scikit-learn.org/stable/modules/linear_model.html#logistic-regression\n",
      "  n_iter_i = _check_optimize_result(\n"
     ]
    },
    {
     "name": "stdout",
     "output_type": "stream",
     "text": [
      "Confusion Matrix: \n",
      "[[ 60081  51139]\n",
      " [ 32216 133488]]\n",
      "Accuracy: 0.6989968366772111\n",
      "Precision: 0.723014510337058\n",
      "Recall: 0.8055810360643074\n",
      "F1 Score: 0.7620678729544346\n"
     ]
    }
   ],
   "source": [
    "from sklearn.linear_model import LogisticRegression\n",
    "from sklearn.metrics import accuracy_score\n",
    "\n",
    "\n",
    "\n",
    "model = LogisticRegression(max_iter=200, random_state=RANDOM_STATE)\n",
    "model.fit(X_train, Y_train)\n",
    "Y_pred = model.predict(X_test)\n",
    "accuracy = accuracy_score(Y_test, Y_pred)\n",
    "metrics(Y_test, Y_pred)\n",
    "\n"
   ]
  },
  {
   "cell_type": "markdown",
   "metadata": {},
   "source": [
    "# Decision Tree"
   ]
  },
  {
   "cell_type": "code",
   "execution_count": 17,
   "metadata": {},
   "outputs": [
    {
     "name": "stdout",
     "output_type": "stream",
     "text": [
      "Confusion Matrix: \n",
      "[[110148   1072]\n",
      " [ 46288 119416]]\n",
      "Accuracy: 0.8289783478499516\n",
      "Precision: 0.9911028484164398\n",
      "Recall: 0.7206585236325014\n",
      "F1 Score: 0.834516688097501\n"
     ]
    }
   ],
   "source": [
    "from sklearn.tree import DecisionTreeClassifier\n",
    "\n",
    "model = DecisionTreeClassifier(\n",
    "    criterion='entropy',\n",
    "    max_depth=10, \n",
    "    min_samples_leaf=10,\n",
    "    random_state=RANDOM_STATE,\n",
    ")\n",
    "model.fit(X_train, Y_train)\n",
    "Y_pred = model.predict(X_test)\n",
    "accuracy = accuracy_score(Y_test, Y_pred)\n",
    "metrics(Y_test, Y_pred)\n",
    "\n"
   ]
  },
  {
   "cell_type": "markdown",
   "metadata": {},
   "source": [
    "# Random Forest"
   ]
  },
  {
   "cell_type": "code",
   "execution_count": 18,
   "metadata": {},
   "outputs": [
    {
     "name": "stdout",
     "output_type": "stream",
     "text": [
      "Confusion Matrix: \n",
      "[[109295   1925]\n",
      " [ 45576 120128]]\n",
      "Accuracy: 0.8284691828805015\n",
      "Precision: 0.9842281631750142\n",
      "Recall: 0.7249553420557138\n",
      "F1 Score: 0.8349266916182752\n"
     ]
    }
   ],
   "source": [
    "from sklearn.ensemble import RandomForestClassifier\n",
    "\n",
    "model = RandomForestClassifier(\n",
    "    n_estimators=10,\n",
    "    max_depth=10, \n",
    "    min_samples_leaf=10,\n",
    "    random_state=RANDOM_STATE,\n",
    ")\n",
    "model.fit(X_train, Y_train)\n",
    "Y_pred = model.predict(X_test)\n",
    "accuracy = accuracy_score(Y_test, Y_pred)\n",
    "metrics(Y_test, Y_pred)\n"
   ]
  },
  {
   "cell_type": "markdown",
   "metadata": {},
   "source": [
    "# Gradient Boosted Trees"
   ]
  },
  {
   "cell_type": "code",
   "execution_count": 19,
   "metadata": {},
   "outputs": [
    {
     "name": "stdout",
     "output_type": "stream",
     "text": [
      "Confusion Matrix: \n",
      "[[107558   3662]\n",
      " [ 43697 122007]]\n",
      "Accuracy: 0.8289819589490257\n",
      "Precision: 0.9708599575074203\n",
      "Recall: 0.7362948389900063\n",
      "F1 Score: 0.8374626338061523\n"
     ]
    }
   ],
   "source": [
    "from sklearn.ensemble import GradientBoostingClassifier\n",
    "\n",
    "gbc_model = GradientBoostingClassifier(\n",
    "    loss='log_loss',\n",
    "    n_estimators=10,\n",
    "    max_depth=10, \n",
    "    min_samples_leaf=10,\n",
    "    random_state=RANDOM_STATE,\n",
    ")\n",
    "gbc_model.fit(X_train, Y_train)\n",
    "Y_pred = gbc_model.predict(X_test)\n",
    "accuracy = accuracy_score(Y_test, Y_pred)\n",
    "metrics(Y_test, Y_pred)\n",
    "\n"
   ]
  },
  {
   "cell_type": "markdown",
   "metadata": {},
   "source": [
    "# Plot a Tree"
   ]
  },
  {
   "cell_type": "code",
   "execution_count": 20,
   "metadata": {},
   "outputs": [
    {
     "name": "stdout",
     "output_type": "stream",
     "text": [
      "Confusion Matrix: \n",
      "[[110148   1072]\n",
      " [ 46288 119416]]\n",
      "Accuracy: 0.8289783478499516\n",
      "Precision: 0.9911028484164398\n",
      "Recall: 0.7206585236325014\n",
      "F1 Score: 0.834516688097501\n"
     ]
    }
   ],
   "source": [
    "from sklearn.tree import DecisionTreeClassifier\n",
    "\n",
    "decisionTreeClassifier = DecisionTreeClassifier(\n",
    "    criterion='entropy',\n",
    "    max_depth=10,\n",
    "    min_samples_leaf=10,\n",
    "    random_state=RANDOM_STATE,\n",
    ")\n",
    "decisionTreeClassifier.fit(X_train, Y_train)\n",
    "Y_pred = decisionTreeClassifier.predict(X_test)\n",
    "accuracy = accuracy_score(Y_test, Y_pred)\n",
    "metrics(Y_test, Y_pred)"
   ]
  },
  {
   "cell_type": "code",
   "execution_count": 21,
   "metadata": {},
   "outputs": [
    {
     "data": {
      "image/png": "[encoded data removed]",
      "text/plain": [
       "<Figure size 2000x1000 with 1 Axes>"
      ]
     },
     "metadata": {},
     "output_type": "display_data"
    }
   ],
   "source": [
    "from sklearn import tree\n",
    "import matplotlib.pyplot as plt\n",
    "# plot a large image of the tree\n",
    "\n",
    "plt.figure(figsize=(20, 10))  \n",
    "tree.plot_tree(\n",
    "    decisionTreeClassifier, \n",
    "    max_depth=3, \n",
    "    feature_names = X_train.columns, \n",
    "    class_names = ['0', '1'],\n",
    "    filled=True\n",
    ")\n",
    "plt.show()"
   ]
  },
  {
   "cell_type": "code",
   "execution_count": 22,
   "metadata": {},
   "outputs": [
    {
     "name": "stdout",
     "output_type": "stream",
     "text": [
      "uxp_reorder_rate_per_order \t 0.9566\n",
      "p_reorder_rate_per_order \t 0.0195\n",
      "days_since_prior_order \t 0.0103\n",
      "add_to_cart_order \t 0.0043\n",
      "p_total_orders \t 0.0023\n",
      "u_total_orders \t 0.0018\n",
      "u_history_days \t 0.0016\n",
      "order_number \t 0.0011\n",
      "p_reorder_rate_per_day \t 0.001\n",
      "u_order_frequency_days \t 0.0009\n",
      "order_hour_of_day \t 0.0004\n",
      "order_dow \t 0.0001\n"
     ]
    }
   ],
   "source": [
    "# feature importances\n",
    "importances = decisionTreeClassifier.feature_importances_\n",
    "\n",
    "# sort the importances\n",
    "sorted_index = importances.argsort()\n",
    "\n",
    "# create labels\n",
    "labels = X_train.columns[sorted_index]\n",
    "\n",
    "# create plot\n",
    "for i in range(len(sorted_index) - 1, -1, -1):\n",
    "    print(f\"{labels[i]} \\t {importances[sorted_index[i]].round(4)}\")"
   ]
  },
  {
   "cell_type": "code",
   "execution_count": 23,
   "metadata": {},
   "outputs": [],
   "source": [
    "# encode dow with one hot encoding\n",
    "from sklearn.preprocessing import OneHotEncoder\n",
    "encoder = OneHotEncoder()\n",
    "dow_encoded = encoder.fit_transform(features_dataset[['order_dow']]).toarray()\n",
    "dow_encoded = pd.DataFrame(dow_encoded, columns=[f\"dow_{i}\" for i in range(dow_encoded.shape[1])])\n",
    "\n",
    "features_dataset = pd.concat([features_dataset, dow_encoded], axis=1)\n",
    "\n",
    "# remove dow\n",
    "features_dataset = features_dataset.drop('order_dow', axis=1)\n",
    "\n",
    "\n",
    "def get_train_test_split(features_dataset):\n",
    "    train, test = train_test_split(features_dataset, test_size=TEST_SIZE, random_state=RANDOM_STATE)\n",
    "    X_train = train.drop('reordered', axis=1)\n",
    "    Y_train = train['reordered']\n",
    "\n",
    "    X_test = test.drop('reordered', axis=1)\n",
    "    Y_test = test['reordered']\n",
    "    return X_train, Y_train, X_test, Y_test\n",
    "\n",
    "X_train, Y_train, X_test, Y_test = get_train_test_split(features_dataset)"
   ]
  },
  {
   "cell_type": "code",
   "execution_count": 24,
   "metadata": {},
   "outputs": [
    {
     "name": "stderr",
     "output_type": "stream",
     "text": [
      "/opt/homebrew/Caskroom/miniconda/base/envs/interview_prep/lib/python3.10/site-packages/sklearn/linear_model/_logistic.py:469: ConvergenceWarning: lbfgs failed to converge (status=1):\n",
      "STOP: TOTAL NO. of ITERATIONS REACHED LIMIT.\n",
      "\n",
      "Increase the number of iterations (max_iter) or scale the data as shown in:\n",
      "    https://scikit-learn.org/stable/modules/preprocessing.html\n",
      "Please also refer to the documentation for alternative solver options:\n",
      "    https://scikit-learn.org/stable/modules/linear_model.html#logistic-regression\n",
      "  n_iter_i = _check_optimize_result(\n"
     ]
    },
    {
     "name": "stdout",
     "output_type": "stream",
     "text": [
      "Confusion Matrix: \n",
      "[[ 48999  62221]\n",
      " [ 23599 142105]]\n",
      "Accuracy: 0.6900954774595196\n",
      "Precision: 0.6954817301762869\n",
      "Recall: 0.8575834017283831\n",
      "F1 Score: 0.7680728589573819\n"
     ]
    }
   ],
   "source": [
    "lr = LogisticRegression(max_iter=200, random_state=RANDOM_STATE)\n",
    "lr.fit(X_train, Y_train)\n",
    "Y_pred = lr.predict(X_test)\n",
    "accuracy = accuracy_score(Y_test, Y_pred)\n",
    "metrics(Y_test, Y_pred)"
   ]
  },
  {
   "cell_type": "code",
   "execution_count": 25,
   "metadata": {},
   "outputs": [],
   "source": [
    "# Encode hour of day to early morning, morning, afternoon, evening, night\n",
    "\n",
    "def encode_hour_of_day(hour):\n",
    "    if hour < 6:\n",
    "        return 'early_morning'\n",
    "    elif hour < 12:\n",
    "        return 'morning'\n",
    "    elif hour < 18:\n",
    "        return 'afternoon'\n",
    "    elif hour < 21:\n",
    "        return 'evening'\n",
    "    else:\n",
    "        return 'night'\n",
    "\n",
    "features_dataset['order_hour_of_day'] = features_dataset['order_hour_of_day'].apply(encode_hour_of_day)\n",
    "\n",
    "# encode hour of day with one hot encoding\n",
    "encoder = OneHotEncoder()\n",
    "hour_encoded = encoder.fit_transform(features_dataset[['order_hour_of_day']]).toarray()\n",
    "hour_encoded = pd.DataFrame(hour_encoded, columns=[f\"hour_{i}\" for i in range(hour_encoded.shape[1])])\n",
    "\n",
    "features_dataset = pd.concat([features_dataset, hour_encoded], axis=1)\n",
    "\n",
    "# remove hour of day\n",
    "features_dataset = features_dataset.drop('order_hour_of_day', axis=1)\n",
    "\n",
    "X_train, Y_train, X_test, Y_test = get_train_test_split(features_dataset)"
   ]
  },
  {
   "cell_type": "code",
   "execution_count": 26,
   "metadata": {},
   "outputs": [
    {
     "name": "stderr",
     "output_type": "stream",
     "text": [
      "/opt/homebrew/Caskroom/miniconda/base/envs/interview_prep/lib/python3.10/site-packages/sklearn/linear_model/_logistic.py:469: ConvergenceWarning: lbfgs failed to converge (status=1):\n",
      "STOP: TOTAL NO. of ITERATIONS REACHED LIMIT.\n",
      "\n",
      "Increase the number of iterations (max_iter) or scale the data as shown in:\n",
      "    https://scikit-learn.org/stable/modules/preprocessing.html\n",
      "Please also refer to the documentation for alternative solver options:\n",
      "    https://scikit-learn.org/stable/modules/linear_model.html#logistic-regression\n",
      "  n_iter_i = _check_optimize_result(\n"
     ]
    },
    {
     "name": "stdout",
     "output_type": "stream",
     "text": [
      "Confusion Matrix: \n",
      "[[ 63407  47813]\n",
      " [ 34820 130884]]\n",
      "Accuracy: 0.7016040502087215\n",
      "Precision: 0.7324353514608527\n",
      "Recall: 0.7898662675614349\n",
      "F1 Score: 0.7600674794788633\n"
     ]
    }
   ],
   "source": [
    "lr = LogisticRegression(max_iter=200, random_state=RANDOM_STATE)\n",
    "lr.fit(X_train, Y_train)\n",
    "Y_pred = lr.predict(X_test)\n",
    "accuracy = accuracy_score(Y_test, Y_pred)\n",
    "metrics(Y_test, Y_pred)"
   ]
  },
  {
   "cell_type": "code",
   "execution_count": 27,
   "metadata": {},
   "outputs": [
    {
     "name": "stdout",
     "output_type": "stream",
     "text": [
      "Confusion Matrix: \n",
      "[[110194   1026]\n",
      " [ 46313 119391]]\n",
      "Accuracy: 0.829054180930508\n",
      "Precision: 0.9914796083609457\n",
      "Recall: 0.7205076521991021\n",
      "F1 Score: 0.8345490194707833\n"
     ]
    }
   ],
   "source": [
    "decisionTreeClassifier = DecisionTreeClassifier(\n",
    "    criterion='entropy',\n",
    "    max_depth=10,\n",
    "    min_samples_leaf=10,\n",
    "    random_state=RANDOM_STATE,\n",
    ")\n",
    "decisionTreeClassifier.fit(X_train, Y_train)\n",
    "Y_pred = decisionTreeClassifier.predict(X_test)\n",
    "accuracy = accuracy_score(Y_test, Y_pred)\n",
    "metrics(Y_test, Y_pred)"
   ]
  },
  {
   "cell_type": "code",
   "execution_count": 28,
   "metadata": {},
   "outputs": [
    {
     "name": "stdout",
     "output_type": "stream",
     "text": [
      "uxp_reorder_rate_per_order \t 0.9568\n",
      "p_reorder_rate_per_order \t 0.0195\n",
      "days_since_prior_order \t 0.0103\n",
      "add_to_cart_order \t 0.0043\n",
      "p_total_orders \t 0.0024\n",
      "order_number \t 0.002\n",
      "u_history_days \t 0.0015\n",
      "u_order_frequency_days \t 0.001\n",
      "p_reorder_rate_per_day \t 0.0009\n",
      "u_total_orders \t 0.0008\n",
      "dow_4 \t 0.0001\n",
      "hour_2 \t 0.0001\n",
      "dow_5 \t 0.0001\n",
      "hour_3 \t 0.0\n",
      "dow_3 \t 0.0\n",
      "hour_0 \t 0.0\n",
      "dow_0 \t 0.0\n",
      "hour_1 \t 0.0\n",
      "dow_6 \t 0.0\n",
      "dow_1 \t 0.0\n",
      "dow_2 \t 0.0\n",
      "hour_4 \t 0.0\n"
     ]
    }
   ],
   "source": [
    "# feature importances\n",
    "importances = decisionTreeClassifier.feature_importances_\n",
    "\n",
    "# sort the importances\n",
    "sorted_index = importances.argsort()\n",
    "\n",
    "# create labels\n",
    "labels = X_train.columns[sorted_index]\n",
    "\n",
    "# create plot\n",
    "for i in range(len(sorted_index) - 1, -1, -1):\n",
    "    print(f\"{labels[i]} \\t {importances[sorted_index[i]].round(4)}\")"
   ]
  }
 ],
 "metadata": {
  "kernelspec": {
   "display_name": "interview_prep",
   "language": "python",
   "name": "python3"
  },
  "language_info": {
   "codemirror_mode": {
    "name": "ipython",
    "version": 3
   },
   "file_extension": ".py",
   "mimetype": "text/x-python",
   "name": "python",
   "nbconvert_exporter": "python",
   "pygments_lexer": "ipython3",
   "version": "3.10.14"
  }
 },
 "nbformat": 4,
 "nbformat_minor": 2
}
