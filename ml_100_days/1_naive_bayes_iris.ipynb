{
 "cells": [
  {
   "cell_type": "code",
   "execution_count": null,
   "metadata": {},
   "outputs": [],
   "source": [
    "from sklearn.datasets import load_iris\n",
    "\n",
    "import pandas as pd\n",
    "import numpy as np\n"
   ]
  },
  {
   "cell_type": "code",
   "execution_count": null,
   "metadata": {},
   "outputs": [],
   "source": [
    "iris = load_iris()\n",
    "print(iris.feature_names)\n",
    "print(iris.target_names)"
   ]
  },
  {
   "cell_type": "code",
   "execution_count": null,
   "metadata": {},
   "outputs": [],
   "source": [
    "features_df = pd.DataFrame(iris.data, columns=iris.feature_names)\n",
    "features_df.info()"
   ]
  },
  {
   "cell_type": "code",
   "execution_count": null,
   "metadata": {},
   "outputs": [],
   "source": [
    "# features_df['target'] = iris.target\n",
    "# features_df.info()\n",
    "target_df = pd.DataFrame(iris.target, columns=['target'])\n",
    "target_df"
   ]
  },
  {
   "cell_type": "code",
   "execution_count": null,
   "metadata": {},
   "outputs": [],
   "source": [
    "from sklearn.model_selection import train_test_split\n",
    "\n",
    "RANDOM_STATE = 7\n",
    "X_train, X_test, Y_train, Y_test = train_test_split(\n",
    "    features_df, \n",
    "    target_df, \n",
    "    test_size= 0.2, \n",
    "    random_state=RANDOM_STATE, \n",
    "    shuffle=True\n",
    ")"
   ]
  },
  {
   "cell_type": "code",
   "execution_count": null,
   "metadata": {},
   "outputs": [],
   "source": [
    "X_train.head()"
   ]
  },
  {
   "cell_type": "code",
   "execution_count": null,
   "metadata": {},
   "outputs": [],
   "source": [
    "from sklearn.naive_bayes import GaussianNB\n",
    "\n",
    "gnb = GaussianNB()\n",
    "gnb.fit(X_train, Y_train)\n",
    "y_pred_prob = gnb.predict_proba(X_test)\n",
    "y_pred = np.argmax(y_pred_prob, axis=1)"
   ]
  },
  {
   "cell_type": "code",
   "execution_count": null,
   "metadata": {},
   "outputs": [],
   "source": [
    "from sklearn.metrics import accuracy_score, confusion_matrix, ConfusionMatrixDisplay, f1_score, classification_report, precision_recall_curve, PrecisionRecallDisplay, roc_auc_score, RocCurveDisplay, roc_curve\n",
    "from sklearn.preprocessing import label_binarize\n",
    "\n",
    "print(f\"Accuracy Score: {accuracy_score(Y_test, y_pred):.4F}\")\n",
    "\n",
    "disp = ConfusionMatrixDisplay(confusion_matrix=confusion_matrix(Y_test, y_pred), display_labels=iris.target_names)\n",
    "disp.plot()\n",
    "\n",
    "print(f\"F1 Score: {f1_score(Y_test, y_pred, average='weighted'):.4F}\")\n",
    "\n",
    "print(f\"{classification_report(Y_test, y_pred, target_names=iris.target_names)}\")\n",
    "\n",
    "for i in range(3):\n",
    "    c_y_true = label_binarize(Y_test, classes=[0,1,2])[:,i]\n",
    "    c_y_pred = label_binarize(y_pred, classes=[0,1,2])[:,i]\n",
    "\n",
    "    precision, recall, thresholds = precision_recall_curve(c_y_true, c_y_pred )\n",
    "\n",
    "    pr_display = PrecisionRecallDisplay(precision, recall)\n",
    "    pr_display.plot()\n",
    "\n",
    "for i in range(3):\n",
    "    c_y_true = label_binarize(Y_test, classes=[0,1,2])[:,i]\n",
    "    c_y_pred = label_binarize(y_pred, classes=[0,1,2])[:,i]\n",
    "\n",
    "    score = roc_auc_score(c_y_true, c_y_pred )\n",
    "    fpr, tpr, thresholds = roc_curve(c_y_true, c_y_pred )\n",
    "    \n",
    "    print(f\"ROC-AUC Score: {score}\")\n",
    "    pr_display = RocCurveDisplay(fpr=fpr, tpr=tpr)\n",
    "    pr_display.plot()\n",
    "\n"
   ]
  }
 ],
 "metadata": {
  "kernelspec": {
   "display_name": "interview_prep",
   "language": "python",
   "name": "python3"
  },
  "language_info": {
   "codemirror_mode": {
    "name": "ipython",
    "version": 3
   },
   "file_extension": ".py",
   "mimetype": "text/x-python",
   "name": "python",
   "nbconvert_exporter": "python",
   "pygments_lexer": "ipython3",
   "version": "3.10.14"
  }
 },
 "nbformat": 4,
 "nbformat_minor": 2
}
