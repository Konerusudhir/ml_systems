{
 "cells": [
  {
   "cell_type": "code",
   "execution_count": null,
   "metadata": {},
   "outputs": [],
   "source": [
    "import pandas as pd\n",
    "\n",
    "from matplotlib import pyplot as plt\n",
    "import seaborn as sb"
   ]
  },
  {
   "cell_type": "code",
   "execution_count": null,
   "metadata": {},
   "outputs": [],
   "source": [
    "ads_data_df = pd.read_csv('datasets/Social_Network_Ads.csv')\n",
    "ads_data_df.info()\n",
    "ads_data_df.describe()"
   ]
  },
  {
   "cell_type": "code",
   "execution_count": null,
   "metadata": {},
   "outputs": [],
   "source": [
    "corr = ads_data_df.corr()\n",
    "plt.figure(figsize=[5,4])\n",
    "sb.heatmap(corr)\n",
    "plt.title('Correlation Matrix')\n",
    "plt.plot()"
   ]
  },
  {
   "cell_type": "code",
   "execution_count": null,
   "metadata": {},
   "outputs": [],
   "source": [
    "from sklearn.preprocessing import StandardScaler\n",
    "\n",
    "z_scalar = StandardScaler()\n",
    "\n",
    "ads_data_df[['Age']] = z_scalar.fit_transform(ads_data_df[['Age']])\n",
    "ads_data_df[['EstimatedSalary']] = z_scalar.fit_transform(ads_data_df[['EstimatedSalary']])\n",
    "\n",
    "print(f\"Means: \\n{ads_data_df[['Age', 'EstimatedSalary']].mean()}\")\n",
    "print(f\"Std:   \\n{ads_data_df[['Age', 'EstimatedSalary']].std()}\")"
   ]
  },
  {
   "cell_type": "code",
   "execution_count": null,
   "metadata": {},
   "outputs": [],
   "source": [
    "from sklearn.model_selection import train_test_split\n",
    "\n",
    "train, test = train_test_split(ads_data_df, random_state=7, test_size=0.2)\n",
    "train.info()"
   ]
  },
  {
   "cell_type": "code",
   "execution_count": null,
   "metadata": {},
   "outputs": [],
   "source": [
    "y_train = train[['Purchased']]\n",
    "x_train = train.drop(['Purchased'], axis=1)\n",
    "print(x_train.info())\n",
    "\n",
    "y_test = train[['Purchased']]\n",
    "x_test = train.drop(['Purchased'], axis=1)\n",
    "x_test.info()"
   ]
  },
  {
   "cell_type": "code",
   "execution_count": null,
   "metadata": {},
   "outputs": [],
   "source": [
    "from sklearn.linear_model import LogisticRegression\n",
    "\n",
    "logistci_regression_model = LogisticRegression()\n",
    "logistci_regression_model.fit(x_train, y_train)\n",
    "\n",
    "y_pred = logistci_regression_model.predict(x_test)\n",
    "y_pred_prob = logistci_regression_model.predict_proba(x_test)\n"
   ]
  },
  {
   "cell_type": "code",
   "execution_count": null,
   "metadata": {},
   "outputs": [],
   "source": [
    "from sklearn.metrics import classification_report, confusion_matrix, ConfusionMatrixDisplay, accuracy_score, roc_auc_score, roc_curve, RocCurveDisplay\n",
    "\n",
    "print(f\"Accuracy Score: {accuracy_score(y_test, y_pred)}\")\n",
    "print(f\"ROC-AUC Score: {roc_auc_score(y_test, y_pred)}\")\n",
    "print(f\"Classification Report: \\n {classification_report(y_test, y_pred)}\")\n",
    "\n",
    "fpr, tpr, _ = roc_curve(y_test, y_pred_prob[:, 1])\n",
    "rocd = RocCurveDisplay(fpr=fpr, tpr=tpr)\n",
    "rocd.plot()\n",
    "cm = confusion_matrix(y_test, y_pred)\n",
    "ConfusionMatrixDisplay(cm).plot()\n",
    "\n"
   ]
  },
  {
   "cell_type": "code",
   "execution_count": null,
   "metadata": {},
   "outputs": [],
   "source": [
    "# feature importances\n",
    "from sklearn.ensemble import RandomForestClassifier\n",
    "\n",
    "randomForestClassifier = RandomForestClassifier()\n",
    "randomForestClassifier.fit(x_train, y_train)\n",
    "\n",
    "importances = randomForestClassifier.feature_importances_\n",
    "feature_names = randomForestClassifier.feature_names_in_\n",
    "\n",
    "plt.figure(figsize=(5, 3))\n",
    "plt.barh(feature_names, importances)\n",
    "plt.title('Feature Importances')\n",
    "plt.plot()"
   ]
  },
  {
   "cell_type": "code",
   "execution_count": null,
   "metadata": {},
   "outputs": [],
   "source": [
    "# Do xy plot\n",
    "\n",
    "plt.figure(figsize=(5,3))\n",
    "plt.scatter(x_test[['Age']], x_test[['EstimatedSalary']], color='blue', label='Test Data')\n",
    "plt.Line2D(x_test[['Age']], y_pred)\n",
    "plt.plot()\n",
    "\n"
   ]
  },
  {
   "cell_type": "code",
   "execution_count": null,
   "metadata": {},
   "outputs": [],
   "source": [
    "from sklearn.neighbors import KNeighborsClassifier\n",
    "\n",
    "knn_classifier = KNeighborsClassifier(n_neighbors=5, metric="
   ]
  }
 ],
 "metadata": {
  "kernelspec": {
   "display_name": "interview_prep",
   "language": "python",
   "name": "python3"
  },
  "language_info": {
   "codemirror_mode": {
    "name": "ipython",
    "version": 3
   },
   "file_extension": ".py",
   "mimetype": "text/x-python",
   "name": "python",
   "nbconvert_exporter": "python",
   "pygments_lexer": "ipython3",
   "version": "3.10.14"
  }
 },
 "nbformat": 4,
 "nbformat_minor": 2
}
