{
 "cells": [
  {
   "cell_type": "code",
   "execution_count": null,
   "metadata": {},
   "outputs": [],
   "source": [
    "from sklearn.datasets import load_iris"
   ]
  },
  {
   "cell_type": "code",
   "execution_count": null,
   "metadata": {},
   "outputs": [],
   "source": [
    "iris_dataset = load_iris(as_frame=True)\n",
    "iris_df = iris_dataset['frame']\n",
    "iris_df"
   ]
  },
  {
   "cell_type": "code",
   "execution_count": null,
   "metadata": {},
   "outputs": [],
   "source": [
    "from sklearn.model_selection import train_test_split\n",
    "\n",
    "\n",
    "features = iris_df[iris_dataset.feature_names]\n",
    "target = iris_df['target']\n",
    "x_train, x_test, y_train, y_test = train_test_split(features, target, test_size=0.2, random_state=7)\n",
    "x_train.info()"
   ]
  },
  {
   "cell_type": "code",
   "execution_count": null,
   "metadata": {},
   "outputs": [],
   "source": [
    "from matplotlib import pyplot as plt\n",
    "import seaborn as sns\n",
    "\n",
    "features = iris_df[iris_dataset.feature_names]\n",
    "corr = features.corr()\n",
    "\n",
    "plt.figure(figsize=[10,8])\n",
    "sns.heatmap(corr)\n",
    "plt.title('Correlation Matrix')\n",
    "plt.plot()\n"
   ]
  },
  {
   "cell_type": "code",
   "execution_count": null,
   "metadata": {},
   "outputs": [],
   "source": [
    "sns.pairplot(iris_df, hue='target')\n"
   ]
  },
  {
   "cell_type": "code",
   "execution_count": null,
   "metadata": {},
   "outputs": [],
   "source": [
    "from sklearn.metrics import accuracy_score, classification_report, confusion_matrix, ConfusionMatrixDisplay\n",
    "\n",
    "def metrics(model):\n",
    "      y_pred= model.predict(x_test)\n",
    "      print(f\"Acc Score: {accuracy_score(y_test, y_pred)}\")\n",
    "      print(f\"Classfication Report: \\n\"\n",
    "            f\"{classification_report(y_test, y_pred, target_names=iris_dataset.target_names)}\")\n",
    "\n",
    "      cm = confusion_matrix(y_test, y_pred)\n",
    "      cmd = ConfusionMatrixDisplay(cm, display_labels=iris_dataset.target_names)\n",
    "      cmd.plot()"
   ]
  },
  {
   "cell_type": "code",
   "execution_count": null,
   "metadata": {},
   "outputs": [],
   "source": [
    "from sklearn.linear_model import LogisticRegression\n",
    "\n",
    "logistic_regression_model = LogisticRegression()\n",
    "logistic_regression_model.fit(x_train, y_train)\n",
    "metrics(logistic_regression_model)"
   ]
  },
  {
   "cell_type": "code",
   "execution_count": null,
   "metadata": {},
   "outputs": [],
   "source": [
    "from sklearn.tree import DecisionTreeClassifier\n",
    "\n",
    "decision_tree_classfier = DecisionTreeClassifier()\n",
    "decision_tree_classfier.fit(x_train, y_train)\n",
    "metrics(decision_tree_classfier)"
   ]
  },
  {
   "cell_type": "code",
   "execution_count": null,
   "metadata": {},
   "outputs": [],
   "source": [
    "from sklearn.ensemble import RandomForestClassifier\n",
    "random_forest_classifier = RandomForestClassifier()\n",
    "random_forest_classifier.fit(x_test, y_test)\n",
    "metrics(random_forest_classifier)\n"
   ]
  },
  {
   "cell_type": "code",
   "execution_count": null,
   "metadata": {},
   "outputs": [],
   "source": [
    "imporances = random_forest_classifier.feature_importances_\n",
    "features = iris_dataset.feature_names\n",
    "\n",
    "plt.figure(figsize=[6,4])\n",
    "plt.barh(features, imporances)\n",
    "plt.xlabel('Importance')\n",
    "plt.ylabel('FeatureName')\n",
    "plt.title('Feature Importances')\n",
    "plt.plot()"
   ]
  }
 ],
 "metadata": {
  "kernelspec": {
   "display_name": "interview_prep",
   "language": "python",
   "name": "python3"
  },
  "language_info": {
   "codemirror_mode": {
    "name": "ipython",
    "version": 3
   },
   "file_extension": ".py",
   "mimetype": "text/x-python",
   "name": "python",
   "nbconvert_exporter": "python",
   "pygments_lexer": "ipython3",
   "version": "3.10.14"
  }
 },
 "nbformat": 4,
 "nbformat_minor": 2
}
